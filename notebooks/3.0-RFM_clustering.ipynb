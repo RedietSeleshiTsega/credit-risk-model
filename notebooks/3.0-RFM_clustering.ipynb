{
 "cells": [
  {
   "cell_type": "code",
   "execution_count": 1,
   "id": "3d8629e7",
   "metadata": {},
   "outputs": [],
   "source": [
    "import pandas as pd\n",
    "import numpy as np\n",
    "from sklearn.preprocessing import StandardScaler\n",
    "from sklearn.cluster import KMeans"
   ]
  },
  {
   "cell_type": "code",
   "execution_count": 2,
   "id": "56bb7742",
   "metadata": {},
   "outputs": [],
   "source": [
    "df = pd.read_csv(\"../data/raw/data.csv\")\n",
    "df[\"TransactionStartTime\"] = pd.to_datetime(df[\"TransactionStartTime\"], errors=\"coerce\")"
   ]
  },
  {
   "cell_type": "code",
   "execution_count": 3,
   "id": "bb5c46d3",
   "metadata": {},
   "outputs": [],
   "source": [
    "snapshot_date = df[\"TransactionStartTime\"].max() + pd.Timedelta(days=1)"
   ]
  },
  {
   "cell_type": "code",
   "execution_count": 4,
   "id": "494e7aa1",
   "metadata": {},
   "outputs": [],
   "source": [
    "rfm = df.groupby(\"CustomerId\").agg({\n",
    "    \"TransactionStartTime\": lambda x: (snapshot_date - x.max()).days,\n",
    "    \"TransactionId\": \"count\",\n",
    "    \"Amount\": \"sum\"\n",
    "}).rename(columns={\n",
    "    \"TransactionStartTime\": \"Recency\",\n",
    "    \"TransactionId\": \"Frequency\",\n",
    "    \"Amount\": \"Monetary\"\n",
    "}).reset_index()"
   ]
  },
  {
   "cell_type": "code",
   "execution_count": 5,
   "id": "0408adfa",
   "metadata": {},
   "outputs": [],
   "source": [
    "scaler = StandardScaler()\n",
    "rfm_scaled = scaler.fit_transform(rfm[[\"Recency\", \"Frequency\", \"Monetary\"]])"
   ]
  },
  {
   "cell_type": "code",
   "execution_count": 6,
   "id": "7e5d367d",
   "metadata": {},
   "outputs": [],
   "source": [
    "kmeans = KMeans(n_clusters=3, random_state=42)\n",
    "rfm[\"Cluster\"] = kmeans.fit_predict(rfm_scaled)"
   ]
  },
  {
   "cell_type": "code",
   "execution_count": 7,
   "id": "494808f4",
   "metadata": {},
   "outputs": [],
   "source": [
    "cluster_stats = rfm.groupby(\"Cluster\")[[\"Recency\", \"Frequency\", \"Monetary\"]].mean()\n",
    "high_risk_cluster = cluster_stats[\"Recency\"].idxmax()"
   ]
  },
  {
   "cell_type": "code",
   "execution_count": 8,
   "id": "fc42daec",
   "metadata": {},
   "outputs": [],
   "source": [
    "rfm[\"is_high_risk\"] = (rfm[\"Cluster\"] == high_risk_cluster).astype(int)"
   ]
  },
  {
   "cell_type": "code",
   "execution_count": 9,
   "id": "0f092f5c",
   "metadata": {},
   "outputs": [],
   "source": [
    "rfm.to_csv(\"../data/processed/rfm_with_labels.csv\", index=False)"
   ]
  },
  {
   "cell_type": "code",
   "execution_count": 11,
   "id": "9af397d6",
   "metadata": {},
   "outputs": [],
   "source": [
    "features = pd.read_csv(\"../data/processed/final_features.csv\")"
   ]
  },
  {
   "cell_type": "code",
   "execution_count": 12,
   "id": "cacaf749",
   "metadata": {},
   "outputs": [],
   "source": [
    "final_df = features.merge(rfm[[\"CustomerId\", \"is_high_risk\"]], on=\"CustomerId\", how=\"left\")\n",
    "final_df[\"is_high_risk\"] = final_df[\"is_high_risk\"].fillna(0).astype(int)"
   ]
  },
  {
   "cell_type": "code",
   "execution_count": 13,
   "id": "234df1ce",
   "metadata": {},
   "outputs": [
    {
     "name": "stdout",
     "output_type": "stream",
     "text": [
      "✅ final_with_target.csv created with RFM proxy label.\n"
     ]
    }
   ],
   "source": [
    "final_df.to_csv(\"../data/processed/final_with_target.csv\", index=False)\n",
    "\n",
    "print(\"✅ final_with_target.csv created with RFM proxy label.\")"
   ]
  }
 ],
 "metadata": {
  "kernelspec": {
   "display_name": ".venv",
   "language": "python",
   "name": "python3"
  },
  "language_info": {
   "codemirror_mode": {
    "name": "ipython",
    "version": 3
   },
   "file_extension": ".py",
   "mimetype": "text/x-python",
   "name": "python",
   "nbconvert_exporter": "python",
   "pygments_lexer": "ipython3",
   "version": "3.13.4"
  }
 },
 "nbformat": 4,
 "nbformat_minor": 5
}
